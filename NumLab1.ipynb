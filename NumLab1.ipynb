{
 "cells": [
  {
   "cell_type": "markdown",
   "metadata": {},
   "source": [
    "# Numerisk laboration I: Neurala nätverk\n",
    "\n",
    "## Bayesiansk inferens och maskininlärning [TIF385], Chalmers, lp2 2024\n",
    "\n",
    "Senast uppdaterad: 15-Okt-2024 av Christian Forssén [christian.forssen@chalmers.se]"
   ]
  },
  {
   "cell_type": "markdown",
   "metadata": {},
   "source": [
    "## Instruktioner\n",
    "- Se deadline för examination på kurshemsidan.\n",
    "- Denna numeriska laboration examineras genom individuellt godkänt på obligatoriska uppgifter i Yata, samt genom godkänd redovisning av lösningar och resultat vid en gruppdiskussion som leds av övningsledare.\n",
    "- Laborationen genomförs individuellt men redovisning sker i seminarieform med flera studenter åt gången.\n",
    "- Diskussioner och samarbete mellan studenter är tillåtet, men varje student som deltar i en redovisning måste på egen hand kunna svara på frågor kring lösning och tolkning av samtliga delar av laborationen."
   ]
  },
  {
   "cell_type": "markdown",
   "metadata": {},
   "source": [
    "### Resultat och figurer\n",
    "- Vid gruppredovisningen skall varje student vara beredd att köra sin lösningskod och kunna demonstrera resultat via efterfrågade figurer.\n",
    "- Alla figurer skall vara tydliga att avläsa, med rubriker på axlar och en beskrivning av kurvor och/eller data.\n",
    "- Ni skall kunna tolka era resultat och förklara hur dessa genererades."
   ]
  },
  {
   "cell_type": "markdown",
   "metadata": {},
   "source": [
    "## Uppgift\n",
    "\n",
    "Det övergripande målet är konstruera ett neuralt nätverk i Python. För storskaliga tillämpningar använder man oftast optimerade programbibliotek som [`tensorflow`](https://www.tensorflow.org/) med omfattande funktionalitet. I denna laboration skall du färdigställa en egen implementering för att tydligare kunna förstå och arbeta med de olika komponenterna. \n",
    "\n",
    "Slutmålet är att skapa en Pythonklass för ett neuralt nätverk med ett dolt lager för att sedan initialisera en instans av denna klass som tränas för att kunna \"lösa\" Schrödingerekvationen för en kvantmekanisk partikel i olika potentiallådor i en dimension.\n",
    "\n",
    "Mer specifikt så utförs uppgiften i tre steg som beskrivs närmare nedan:\n",
    "\n",
    "* **Steg 1: Grundfunktionalitet som sedan skall integreras i vår `Neural_Network` python-klass**\n",
    "* **Steg 2: Bygg klart vår `Neural_Network` python-klass**\n",
    "* **Steg 3: Skapa och träna ett neuralt nätverk att lösa Schrödingerekvationen**"
   ]
  },
  {
   "cell_type": "markdown",
   "metadata": {},
   "source": [
    "### Lärandemål\n",
    "- att förstå och numeriskt implementera flera grundläggande algoritmer som används inom maskininlärning; specifikt betraktas enkla neurala nätverk.\n",
    "- att använda python för praktisk tillämpning av maskininlärning. \n",
    "- att konstruera och utföra en träning av ett neuralt nätverk för simulering av en fysikaliskt relevant differentialekvation.\n",
    "- att kunna beskriva sin kod och sina resultat på ett effektivt och tydligt sätt."
   ]
  },
  {
   "cell_type": "markdown",
   "metadata": {},
   "source": [
    "### Modulimport"
   ]
  },
  {
   "cell_type": "code",
   "execution_count": 1,
   "metadata": {},
   "outputs": [],
   "source": [
    "import matplotlib.pyplot as plt\n",
    "import numpy as np\n",
    "from scipy import optimize\n",
    "import pandas as pd"
   ]
  },
  {
   "cell_type": "markdown",
   "metadata": {},
   "source": [
    "## Steg 1 (Grundfunktionalitet som sedan skall integreras i vår `Neural_Network` python-klass)"
   ]
  },
  {
   "cell_type": "markdown",
   "metadata": {},
   "source": [
    "Här kommer vi att betrakta ett neuralt nätverk med två insignaler $(x_1, x_2)$, ett dolt lager med 100 noder och sigmoid-aktivering, och en utsignal $y$ som är linjär i utsignalsnodens aktivering.\n",
    "\n",
    "Ett sådant neuralt nätverk har på förhand tränats för att kunna reproducera\n",
    "\n",
    "$$\n",
    "y = x_2 / x_1,\n",
    "$$\n",
    "\n",
    "med $x_2 \\in [0,1]$ och $x_1 \\in [1,2]$. Notera att sambandet $y = y(x_1,x_2)$ återskapas genom flexibiliteten hos det neurala nätverket. Modellen vet ingenting om division. Det färdigtränande nätverkets vikter finns i datafiler som laddas in nedan."
   ]
  },
  {
   "cell_type": "markdown",
   "metadata": {},
   "source": [
    "#### (a) Examineras i Yata.\n",
    "\n",
    "    Bygg klart nedan aktiveringsfunktion samt dess derivata."
   ]
  },
  {
   "cell_type": "code",
   "execution_count": 2,
   "metadata": {},
   "outputs": [],
   "source": [
    "def sigmoid(z):\n",
    "    '''\n",
    "    Apply sigmoid activation function to scalar, vector, or matrix.\n",
    "    '''\n",
    "    return 1/(1+np.exp(-z))\n",
    "\n",
    "def sigmoidPrime(z):\n",
    "    \"\"\"\n",
    "    Gradient of sigmoid with respect to z\n",
    "    \"\"\"\n",
    "    return np.exp(-z)/(1+np.exp(-z))**2"
   ]
  },
  {
   "cell_type": "markdown",
   "metadata": {},
   "source": [
    "#### (b) Examineras i Yata\n",
    "\n",
    "    Skapa funktionen `forward` som propagerar Nd instanser med insignaler `[x1,x2]` genom det specifika neurala nätverket. Se specifika designinstruktioner i funktionens docstring.\n",
    "    \n",
    "    Testa att funktionen fungerar med de inladdade vikterna så att\n",
    "    \n",
    "    `forward(X)`\n",
    "    \n",
    "    (förhoppningsvis) returnerar en (Nd,1) array med kvoter x2/x1 där `[x1,x2]` är rader i argumentet `X`, vilket alltså i sin tur är en (Nd,2) array."
   ]
  },
  {
   "cell_type": "markdown",
   "metadata": {},
   "source": [
    "#### Tips\n",
    "- Fundera först (gärna med penna och papper) vad det är för beräkningar som skall utföras. Det är sällan en god idé att börja med kodandet innan man har klart för sig vad som skall implementeras.\n",
    "- Se gärna relevanta avsnitt i kurskompendiet.\n",
    "- Använd `numpy` matris- och vektoroperationer istället för `for` loopar."
   ]
  },
  {
   "cell_type": "code",
   "execution_count": 3,
   "metadata": {},
   "outputs": [
    {
     "name": "stdout",
     "output_type": "stream",
     "text": [
      "[1.00023172]\n"
     ]
    }
   ],
   "source": [
    "# Färdigtränade vikter som skall användas i funktionen nedan.\n",
    "# Notera att vi inte använder några biasvikter i detta exempel.\n",
    "\n",
    "# Define weight matrices W1 (2,100) and W2 (100,1)\n",
    "W1 = np.load('W1_step1.npy')\n",
    "W2 = np.load('W2_step1.npy')\n",
    "\n",
    "def forward(X):\n",
    "    '''\n",
    "    Propagate X through a NN to produce an output yhat.\n",
    "    \n",
    "    Args:\n",
    "        X: ndarray (Ndata, 2)\n",
    "            Input data\n",
    "        \n",
    "    Returns:\n",
    "        yhat: ndarray (Ndata, 1)\n",
    "            Response\n",
    "            \n",
    "    Input layer: 2 inputs\n",
    "    Hidden layer: 100 neurons (weights in W1, shape (2,100))\n",
    "    Output layer: 1 output (weights in W2, shape (100,1))\n",
    "        \n",
    "    The activation of neuron j in the hidden layer is*\n",
    "    \n",
    "    z1[j] = X[0] * W1[0,j] + X[1] * W1[1,j]\n",
    "    \n",
    "    and we use a sigmoid activation function\n",
    "    \n",
    "    y1 = f(z1) = 1 / (1 + exp(-z1))\n",
    "    \n",
    "    The activation of the output neutron is*\n",
    "    \n",
    "    z2 = sum_k ( y1[k] * W2[k,0] )\n",
    "    \n",
    "    and we use a linear output in the output layer\n",
    "    \n",
    "    yhat = z2\n",
    "    \n",
    "    Note that there is no bias in this example\n",
    "    '''\n",
    "    \n",
    "    z1 = np.matmul(X,W1)\n",
    "    y1 = sigmoid(z1)\n",
    "    z2 = np.matmul(y1,W2)\n",
    "    yhat = z2\n",
    "    \n",
    "    return yhat\n",
    "print(forward([1,1]))"
   ]
  },
  {
   "cell_type": "markdown",
   "metadata": {},
   "source": [
    "## Steg 2 (Bygg klart vår `Neural_Network` python-klass)"
   ]
  },
  {
   "cell_type": "markdown",
   "metadata": {},
   "source": [
    "#### (a) Examineras i Yata\n",
    "  \n",
    "    Lägg till följande funktionalitet till nedan python class `Neural_Network`:\n",
    "    - funktionerna `sigmoid` och `sigmoidPrime` från Steg 1 (men anpassade för att vara metoder i en python-klass)\n",
    "    - funktionen `forward` från Steg 1 (men anpassad för att vara en metod i en python-klass)"
   ]
  },
  {
   "cell_type": "markdown",
   "metadata": {},
   "source": [
    "#### (b) Examineras i Yata\n",
    "  \n",
    "    Lägg till följande funktionalitet till nedan python class `trainer`:\n",
    "    - funktionen `score` som kan beräkna ett MSE (mean-squared error) felmått för given data."
   ]
  },
  {
   "cell_type": "markdown",
   "metadata": {},
   "source": [
    "Kort sammanfattning av det du behöver veta om python-klasser:\n",
    "- En **klass** innehåller funktionalitet som man vill kunna återanvända. Nedan finner vi klasserna `Neural_Network` som låter oss definiera olika versioner av ett neuralt nätverk med ett dolt lager, samt `trainer` som låter oss träna ett neuralt nätverk.\n",
    "- Specifikt kan man skapa flera **instanser** av en klass, där varje instans kan betraktas som en egen kopia med sina egna egenskaper (attribut).\n",
    "- Inuti en klass kan man definiera olika **attribut** (variabler) och **metoder** (funktioner) som sedan kan utnyttjas internt i klassen genom anrop `self.var` för en variabel `var`, eller `self.func()` för en funktion `func`.\n",
    "- Dessa attribut kan till exempel initialiseras vid det första anropet. Säg till exempel att vi skapar instansen\n",
    "\n",
    "  `NN = Neural_Network(insize=2,outsize=1,hiddensize=100, output='linear')`\n",
    "  \n",
    "  Då finner vi att `NN.outputLayerSize` returnerar 1 (se initialiseringsmetoden `__init__` nedan).\n",
    "- Metoder som definieras inne i en klass måste ha `self` som sitt första argument.\n",
    "- Metoden `__init__` är speciell då den alltid körs när en instans av en klass skapas. Här brukar man initialisera viktiga attribut som beskriver just denna instans av klassen."
   ]
  },
  {
   "cell_type": "code",
   "execution_count": 4,
   "metadata": {
    "code_folding": [
     0
    ]
   },
   "outputs": [],
   "source": [
    "class Neural_Network(object):\n",
    "    \n",
    "    def __init__(self, insize=2, outsize=1, hiddensize=3, output='linear'):\n",
    "        #Define Hyperparameters\n",
    "        self.inputLayerSize = insize\n",
    "        self.outputLayerSize = outsize\n",
    "        self.hiddenLayerSize = hiddensize\n",
    "        if output=='linear':\n",
    "            self.output = self.linear\n",
    "            self.outputPrime = self.linearPrime\n",
    "        elif output=='sigmoid':\n",
    "            self.output = self.sigmoid\n",
    "            self.outputPrime = self.sigmoidPrime\n",
    "\n",
    "        # Initialize weights (parameters)\n",
    "        self.W1 = np.random.randn(self.inputLayerSize,self.hiddenLayerSize)\n",
    "        self.W2 = np.random.randn(self.hiddenLayerSize,self.outputLayerSize)\n",
    "        \n",
    "    def forward(self, X):\n",
    "        \"\"\"\n",
    "        Propogate inputs through network\n",
    "        \n",
    "        Note: \n",
    "        refer to weight arrays as \n",
    "        self.W1\n",
    "        self.W2\n",
    "        \n",
    "        and the hidden layer output\n",
    "        self.y1\n",
    "        \n",
    "        and activations\n",
    "        self.z1\n",
    "        self.z2       \n",
    "        \"\"\"\n",
    "        \n",
    "        self.z1 = np.matmul(X,self.W1)\n",
    "        self.y1 = self.sigmoid(self.z1)\n",
    "        self.z2 = np.matmul(self.y1,self.W2)\n",
    "        # Output...\n",
    "        # note how we employ the output method that has been defined at initialization\n",
    "        return self.output(self.z2)\n",
    "\n",
    "    def linear(self, z):\n",
    "        \"\"\"Apply linear activation function to scalar, vector, or matrix\"\"\"\n",
    "        return z\n",
    "\n",
    "    def linearPrime(self,z):\n",
    "        \"\"\"Gradient of linear with respect to z\"\"\"\n",
    "        return np.ones_like(z)\n",
    "\n",
    "    def sigmoid(self, z):\n",
    "        \"\"\"Apply sigmoid activation function to scalar, vector, or matrix\"\"\"\n",
    "        return 1/(1+np.exp(-z))\n",
    "\n",
    "    def sigmoidPrime(self,z):\n",
    "        \"\"\"Gradient of sigmoid with respect to z\"\"\"\n",
    "        return np.exp(-z)/(1+np.exp(-z))**2\n",
    "\n",
    "    def costFunction(self, X, y):\n",
    "        \"\"\"Compute cost for given X,y, use weights already stored in class.\"\"\"\n",
    "        self.yHat = self.forward(X)\n",
    "        C = 0.5*sum((y-self.yHat)**2)\n",
    "        return C\n",
    "    \n",
    "    def delta_output(self, y):\n",
    "        return np.multiply(-(y-self.yHat), self.outputPrime(self.z2))\n",
    "\n",
    "    def costFunctionPrime(self, X, y):\n",
    "        \"\"\"Compute derivative with respect to W and W2 for a given X and y\"\"\"\n",
    "        self.yHat = self.forward(X)\n",
    "\n",
    "        # Derivative of output layer with respect to z2\n",
    "        delta2 = self.delta_output(y)\n",
    "        dCdW2 = np.dot(self.y1.T, delta2)\n",
    "\n",
    "        delta1 = np.dot(delta2, self.W2.T)*self.sigmoidPrime(self.z1)\n",
    "        dCdW1 = np.dot(X.T, delta1)\n",
    "\n",
    "        return dCdW1, dCdW2\n",
    "\n",
    "    #Helper Functions for interacting with other classes:\n",
    "    def getParams(self):\n",
    "        \"\"\"Get W1 and W2 unrolled into a single array\"\"\"\n",
    "        params = np.concatenate((self.W1.ravel(), self.W2.ravel()))\n",
    "        return params\n",
    "\n",
    "    def setParams(self, params):\n",
    "        \"\"\"Set W1 and W2 using a single parameter array.\"\"\"\n",
    "        W1_start = 0\n",
    "        W1_end = self.hiddenLayerSize * self.inputLayerSize\n",
    "        self.W1 = np.reshape(params[W1_start:W1_end], (self.inputLayerSize , self.hiddenLayerSize)\n",
    "                            )\n",
    "        W2_end = W1_end + self.hiddenLayerSize*self.outputLayerSize\n",
    "        self.W2 = np.reshape(params[W1_end:W2_end], (self.hiddenLayerSize, self.outputLayerSize))\n",
    "  \n",
    "    def computeGradients(self, X, y):\n",
    "        dCdW1, dCdW2 = self.costFunctionPrime(X, y)\n",
    "        return np.concatenate((dCdW1.ravel(), dCdW2.ravel()))"
   ]
  },
  {
   "cell_type": "code",
   "execution_count": 5,
   "metadata": {
    "code_folding": [
     0
    ]
   },
   "outputs": [],
   "source": [
    "class Trainer(object):\n",
    "    \n",
    "    def __init__(self, N, maxiter=200, disp=True):\n",
    "        \"\"\"\n",
    "        Initialize an object for training of a neural network.\n",
    "        \n",
    "        Args:\n",
    "            N: reference to an instance of the Neural_Network class.\n",
    "            maxiter: maximum number of iterations for the BFGS optimization (default: 200).\n",
    "            disp: verbose output from optimization (default: True)\n",
    "        \"\"\"\n",
    "        self.N = N\n",
    "        self.maxiter = maxiter\n",
    "        self.disp = disp\n",
    "\n",
    "    def callbackF(self, params):\n",
    "        self.N.setParams(params)\n",
    "        self.C.append(self.N.costFunction(self.X, self.y))\n",
    "        self.train_score.append(self.score(self.X, self.y))\n",
    "        if not (self.yval is None or self.Xval is None):\n",
    "            self.val_score.append(self.score(self.Xval, self.yval))\n",
    "\n",
    "    def costFunctionWrapper(self, params, X, y):\n",
    "        self.N.setParams(params)\n",
    "        cost = self.N.costFunction(X, y)\n",
    "        grad = self.N.computeGradients(X,y)\n",
    "        return cost, grad\n",
    "    \n",
    "    def score(self, X, y):\n",
    "        \"\"\"\n",
    "        MSE score\n",
    "        \n",
    "        Evaluate the NN output 'yhat' for input X \n",
    "        and compare with the observed output 'y'\n",
    "        \"\"\"\n",
    "        yhat = self.N.forward(X)\n",
    "        MSE = np.sum((y - yhat) ** 2) / len(y)\n",
    "        return MSE\n",
    "\n",
    "    def train(self, X, y, Xval=None, yval=None):\n",
    "        \"\"\"Make internal variables for the callback function\"\"\"\n",
    "        self.X = X\n",
    "        self.y = y\n",
    "        self.Xval = Xval\n",
    "        self.yval = yval\n",
    "\n",
    "        #Make empty list to store costs:\n",
    "        self.C = []\n",
    "        self.train_score = []\n",
    "        self.val_score = []\n",
    "\n",
    "        params0 = self.N.getParams()\n",
    "\n",
    "        # Here we use an optimization method (the Broyden–Fletcher–Goldfarb–Shanno algorithm)\n",
    "        # that tries to minimize the cost function by employing gradient information returned by\n",
    "        # the `costFunctionWrapper` method defined above.\n",
    "        options = {'maxiter': self.maxiter, 'disp' : self.disp}\n",
    "        _res = optimize.minimize(self.costFunctionWrapper, params0, jac=True, method='BFGS', \\\n",
    "        args=(X, y), options=options, callback=self.callbackF)\n",
    "\n",
    "        self.N.setParams(_res.x)\n",
    "        self.optimizationResults = _res\n"
   ]
  },
  {
   "cell_type": "markdown",
   "metadata": {},
   "source": [
    "## Steg 3 (Skapa och träna ett neuralt nätverk att lösa Schrödingerekvationen)"
   ]
  },
  {
   "cell_type": "markdown",
   "metadata": {},
   "source": [
    "#### (a) Figur 1\n",
    "\n",
    "     Konstruera och träna ett neuralt nätverk enligt nedan instruktioner. Rita upp en inlärningskurva som visar MSE för träningsdata samt MSE för valideringsdata som en funktion av optimeringsiteration. \n",
    "     - Vad har ni valt för arkitektur och hur många parametrar har ert nätverk?\n",
    "     - Finns det tecken på överanpassning?"
   ]
  },
  {
   "cell_type": "markdown",
   "metadata": {},
   "source": [
    "#### (b) Figur 2\n",
    "\n",
    "     Jämför hur ert färdigtränade neurala nätverk reproducerar de exakta energierna i träningsdata samt hur väl den reproducerar energierna i valideringsdata.\n",
    "     - Finns det tecken på snedvriden träningsdata?"
   ]
  },
  {
   "cell_type": "markdown",
   "metadata": {},
   "source": [
    "#### Schrödingerekvationen\n",
    "\n",
    "Problemet som betraktas i denna uppgift är Schrödingerekvationen för en kvantmekanisk partikel som befinner sig i en endimensionell lådpotential $V(x)$ med oändliga väggar $V(x=0) = V(x=1) = \\infty$.\n",
    "\n",
    "Partikelns tillstånd kommer att beskrivas av en vågfunktion $\\Psi(x)$ som i sin tur är en lösning till Schrödingerekvationen\n",
    "\n",
    "$$\n",
    "\\hat{H} \\Psi = E \\Psi,\n",
    "$$\n",
    "\n",
    "där $\\hat{H}$ är Hamiltonoperatorn som innehåller potentialfunktionen samt en differentialoperator vilken beskriver partikelns kinetiska energi. Vi kommer inte att beskriva denna operator närmare (det kommer i kvantfysikkursen) utan enbart konstatera att problemet motsvarar en så kallad egenekvation med (åtminstone) en lösning för en diskret egenenergi $E$. Det är denna storhet som vi söker.\n",
    "\n",
    "Den data som laddas nedan motsvarar flera olika fall där någon har löst Schrödingerekvationen för en viss potential $V(x)$ och hittat egenenergien $E$. Indata är $V_i \\equiv V(x_i)$ för 127 punkter så att $V(x_0)$ är den första punkten till höger om potentialväggen vid $x=0$ och $V(x_{126})$ är alldeles till vänster om potentialväggen vid $x=1$.\n",
    "\n",
    "Sambandet ser alltså ut som följer:\n",
    "\n",
    "$(V_0, V_1, \\ldots, V_{126})$ $\\Rightarrow$ Hamiltonoperatorn $\\Rightarrow$ Lös Schrödingerekvationen $\\Rightarrow$ $E$\n",
    "\n",
    "Vår uppgift är istället att:\n",
    "- Konstruera ett neuralt nätverk (med ett enda gömt lager) som...\n",
    "- ... givet en uppsättning med träningsdata, där `trainx` motsvarar olika potentialer och `trainy` är motsvarande egenenergier,\n",
    "- ... kan tränas så att det sedan kan förutsäga egenenergien för andra potentiallådor (som inte var med i träningsdatan)."
   ]
  },
  {
   "cell_type": "markdown",
   "metadata": {},
   "source": [
    "#### Tips\n",
    "- Fundera först på hur in- och utlagren skall se ut för att passa med problemet som skall lösas.\n",
    "- Välj sedan storlek på det gömda lagret och tänk på att det kan ta väldigt lång tid att träna nätverket om det totala antalet vikter blir för stort. Ni får gärna prova er fram, men ett par tusen vikter borde gå att hantera.\n",
    "- Initialisera sedan en instans av klassen `Neural_Network`, t.ex. med `NN = Neural_Network(...argument här...)`\n",
    "- För att kunna träna nätverket behöver ni initialisera en instans av klassen `Trainer` med referensen till ert nätverk som första argument: `T = Trainer(NN, ... ev andra argument...)`\n",
    "- Själva träningen utförs med metoden `train()`. Genom att ni implementerade metoden `score` i Steg 2 kommer MSE för träningsdata att beräknas i varje iteration av gradientstegsoptimeringen. Om ni ger valideringsdata som ett argument till `train` kommer även MSE för den att beräknas. Titta gärna på dessa mått för att uppskatta hur väl träningen fungerar."
   ]
  },
  {
   "cell_type": "markdown",
   "metadata": {},
   "source": [
    "### Nedladdning av data"
   ]
  },
  {
   "cell_type": "code",
   "execution_count": 7,
   "metadata": {},
   "outputs": [
    {
     "name": "stdout",
     "output_type": "stream",
     "text": [
      "         Current function value: 0.039114\n",
      "         Iterations: 200\n",
      "         Function evaluations: 208\n",
      "         Gradient evaluations: 208\n"
     ]
    },
    {
     "name": "stderr",
     "output_type": "stream",
     "text": [
      "c:\\Users\\blend\\anaconda3\\Lib\\site-packages\\scipy\\optimize\\_minimize.py:708: OptimizeWarning: Maximum number of iterations has been exceeded.\n",
      "  res = _minimize_bfgs(fun, x0, args, jac, callback, **options)\n"
     ]
    },
    {
     "data": {
      "image/png": "[encoded data removed]",
      "text/plain": [
       "<Figure size 640x480 with 1 Axes>"
      ]
     },
     "metadata": {},
     "output_type": "display_data"
    },
    {
     "name": "stderr",
     "output_type": "stream",
     "text": [
      "C:\\Users\\blend\\AppData\\Local\\Temp\\ipykernel_16516\\659353961.py:30: UserWarning: color is redundantly defined by the 'color' keyword argument and the fmt string \"k--\" (-> color='k'). The keyword argument will take precedence.\n",
      "  ax[0].plot([min(trainy), max(trainy)], [min(trainy), max(trainy)], \"k--\", label=\"perfekt linje\", color=\"red\")\n",
      "C:\\Users\\blend\\AppData\\Local\\Temp\\ipykernel_16516\\659353961.py:37: UserWarning: color is redundantly defined by the 'color' keyword argument and the fmt string \"k--\" (-> color='k'). The keyword argument will take precedence.\n",
      "  ax[1].plot([min(validy), max(validy)], [min(validy), max(validy)], \"k--\", label=\"perfekt linje\", color=\"red\")\n"
     ]
    },
    {
     "data": {
      "image/png": "[encoded data removed]",
      "text/plain": [
       "<Figure size 640x480 with 2 Axes>"
      ]
     },
     "metadata": {},
     "output_type": "display_data"
    }
   ],
   "source": [
    "# Tränings- och valideringsdata till Steg 3\n",
    "trainx = np.load(\"trainx_step3.npy\")\n",
    "trainy = np.load(\"trainy_step3.npy\")\n",
    "validx = np.load(\"validx_step3.npy\")\n",
    "validy = np.load(\"validy_step3.npy\")\n",
    "\n",
    "NN = Neural_Network(insize=127, outsize=1, hiddensize=10, output=\"linear\")\n",
    "T = Trainer(NN, maxiter=200, disp=True)\n",
    "\n",
    "T.train(trainx, trainy, Xval=validx, yval=validy)\n",
    "\n",
    "plt.plot(T.train_score, label=\"Träningsdata\", color=\"black\")\n",
    "plt.plot(T.val_score, label=\"Valideringsdata\", color=\"red\")\n",
    "plt.title(\"Inlärningsdata\")\n",
    "plt.xlabel(\"iteration\")\n",
    "plt.ylabel(\"MSE\")\n",
    "plt.legend()\n",
    "plt.grid()\n",
    "plt.show()\n",
    "\n",
    "train_yhat = NN.forward(trainx)\n",
    "train_MSE = (np.matmul((trainy-train_yhat).T,(trainy-train_yhat)))/len(trainy)\n",
    "\n",
    "valid_yhat = NN.forward(validx)\n",
    "valid_MSE = (np.matmul((validy-valid_yhat).T,(validy-valid_yhat)))/len(validy)\n",
    "\n",
    "fig, ax = plt.subplots(1,2)\n",
    "plt.title(\"riktiga vs förutspådda värden\")\n",
    "ax[0].scatter(trainy, train_yhat, label=\"Träningsdata\", color=\"black\", alpha=0.6)\n",
    "ax[0].plot([min(trainy), max(trainy)], [min(trainy), max(trainy)], \"k--\", label=\"perfekt linje\", color=\"red\")\n",
    "ax[0].set_xlabel(\"trainy\")\n",
    "ax[0].set_ylabel(\"train_yhat\")\n",
    "ax[0].legend()\n",
    "ax[0].grid()\n",
    "\n",
    "ax[1].scatter(validy, valid_yhat, label=\"Träningsdata\", color=\"black\", alpha=0.6)\n",
    "ax[1].plot([min(validy), max(validy)], [min(validy), max(validy)], \"k--\", label=\"perfekt linje\", color=\"red\")\n",
    "ax[1].set_xlabel(\"validy\")\n",
    "ax[1].set_ylabel(\"valid_yhat\")\n",
    "ax[1].legend()\n",
    "ax[1].grid()\n",
    "plt.tight_layout()\n",
    "plt.show()"
   ]
  },
  {
   "cell_type": "code",
   "execution_count": null,
   "metadata": {},
   "outputs": [],
   "source": []
  }
 ],
 "metadata": {
  "@webio": {
   "lastCommId": null,
   "lastKernelId": null
  },
  "kernelspec": {
   "display_name": "Python 3 (ipykernel)",
   "language": "python",
   "name": "python3"
  },
  "language_info": {
   "codemirror_mode": {
    "name": "ipython",
    "version": 3
   },
   "file_extension": ".py",
   "mimetype": "text/x-python",
   "name": "python",
   "nbconvert_exporter": "python",
   "pygments_lexer": "ipython3",
   "version": "3.11.5"
  },
  "widgets": {
   "state": {
    "065d2168353641f29ca4ec30f7f110b9": {
     "views": [
      {
       "cell_index": 18
      }
     ]
    }
   },
   "version": "1.2.0"
  }
 },
 "nbformat": 4,
 "nbformat_minor": 4
}
